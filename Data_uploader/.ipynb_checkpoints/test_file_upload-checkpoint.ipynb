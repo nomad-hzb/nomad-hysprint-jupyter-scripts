{
 "cells": [
  {
   "cell_type": "code",
   "execution_count": 1,
   "id": "faca75c8-3b46-4713-8dc5-f3e3f3476e3a",
   "metadata": {},
   "outputs": [
    {
     "data": {
      "application/vnd.jupyter.widget-view+json": {
       "model_id": "381c7c99bda148c4a0075393d22943b3",
       "version_major": 2,
       "version_minor": 0
      },
      "text/plain": [
       "FileInput(events=['upload'])"
      ]
     },
     "execution_count": 1,
     "metadata": {},
     "output_type": "execute_result"
    }
   ],
   "source": [
    "import ipywidgets as widgets\n",
    "from ipyvuetify.extra import FileInput\n",
    "import hashlib\n",
    "\n",
    "file_input = FileInput()\n",
    "file_input"
   ]
  },
  {
   "cell_type": "code",
   "execution_count": null,
   "id": "0cfcfb0a-c9e1-464f-9804-84915c55bdb0",
   "metadata": {},
   "outputs": [],
   "source": []
  }
 ],
 "metadata": {
  "kernelspec": {
   "display_name": "Python 3 (ipykernel)",
   "language": "python",
   "name": "python3"
  },
  "language_info": {
   "codemirror_mode": {
    "name": "ipython",
    "version": 3
   },
   "file_extension": ".py",
   "mimetype": "text/x-python",
   "name": "python",
   "nbconvert_exporter": "python",
   "pygments_lexer": "ipython3",
   "version": "3.12.10"
  }
 },
 "nbformat": 4,
 "nbformat_minor": 5
}
