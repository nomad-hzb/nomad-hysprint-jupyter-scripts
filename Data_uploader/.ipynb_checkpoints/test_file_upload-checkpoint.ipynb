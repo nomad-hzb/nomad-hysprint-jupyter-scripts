{
 "cells": [
  {
   "cell_type": "code",
   "execution_count": 1,
   "id": "faca75c8-3b46-4713-8dc5-f3e3f3476e3a",
   "metadata": {},
   "outputs": [
    {
     "data": {
      "application/vnd.jupyter.widget-view+json": {
       "model_id": "d1eeff50c68043e998f05a36c9e373ed",
       "version_major": 2,
       "version_minor": 0
      },
      "text/plain": [
       "FileInput(events=['upload'])"
      ]
     },
     "execution_count": 1,
     "metadata": {},
     "output_type": "execute_result"
    }
   ],
   "source": [
    "import ipywidgets as widgets\n",
    "from ipyvuetify.extra import FileInput\n",
    "import hashlib\n",
    "\n",
    "file_input = FileInput()\n",
    "file_input"
   ]
  },
  {
   "cell_type": "code",
   "execution_count": 3,
   "id": "211284a5-93e9-4ad4-90d4-a44520cbcd75",
   "metadata": {},
   "outputs": [],
   "source": [
    "myfiles = file_input.get_files()\n",
    "myfiles[0]['file_obj']\n",
    "with open('test.h5','bw') as f:\n",
    "    f.write(myfiles[0]['file_obj'].read())\n"
   ]
  },
  {
   "cell_type": "code",
   "execution_count": 8,
   "id": "00388597-6052-418a-af17-bdc8ad844b03",
   "metadata": {},
   "outputs": [
    {
     "data": {
      "text/plain": [
       "<ipyvuetify.extra.file_input.ClientSideFile at 0x6ffc834357e0>"
      ]
     },
     "execution_count": 8,
     "metadata": {},
     "output_type": "execute_result"
    }
   ],
   "source": [
    "myfiles[0]['file_obj']\n"
   ]
  },
  {
   "cell_type": "code",
   "execution_count": null,
   "id": "f24d8ab2-4b99-4ef8-9dd5-ea02446b088b",
   "metadata": {},
   "outputs": [],
   "source": []
  }
 ],
 "metadata": {
  "kernelspec": {
   "display_name": "Python 3 (ipykernel)",
   "language": "python",
   "name": "python3"
  },
  "language_info": {
   "codemirror_mode": {
    "name": "ipython",
    "version": 3
   },
   "file_extension": ".py",
   "mimetype": "text/x-python",
   "name": "python",
   "nbconvert_exporter": "python",
   "pygments_lexer": "ipython3",
   "version": "3.12.10"
  }
 },
 "nbformat": 4,
 "nbformat_minor": 5
}
