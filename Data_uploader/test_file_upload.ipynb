{
 "cells": [
  {
   "cell_type": "code",
   "execution_count": 9,
   "id": "faca75c8-3b46-4713-8dc5-f3e3f3476e3a",
   "metadata": {},
   "outputs": [
    {
     "data": {
      "application/vnd.jupyter.widget-view+json": {
       "model_id": "32e223c49b4b420bb2c149047878710c",
       "version_major": 2,
       "version_minor": 0
      },
      "text/plain": [
       "FileInput(events=['upload'])"
      ]
     },
     "execution_count": 9,
     "metadata": {},
     "output_type": "execute_result"
    }
   ],
   "source": [
    "import ipywidgets as widgets\n",
    "from ipyvuetify.extra import FileInput\n",
    "import hashlib\n",
    "\n",
    "file_input = FileInput(layout={\"minwidth\":20,\"minheight\":10000})\n",
    "file_input"
   ]
  },
  {
   "cell_type": "code",
   "execution_count": 2,
   "id": "0cfcfb0a-c9e1-464f-9804-84915c55bdb0",
   "metadata": {},
   "outputs": [
    {
     "data": {
      "text/plain": [
       "\u001b[31mInit signature:\u001b[39m FileInput(**kwargs)\n",
       "\u001b[31mDocstring:\u001b[39m     \n",
       "Widget that can be inserted into the DOM\n",
       "\n",
       "Parameters\n",
       "----------\n",
       "tooltip: str\n",
       "   tooltip caption\n",
       "layout: InstanceDict(Layout)\n",
       "   widget layout\n",
       "\u001b[31mInit docstring:\u001b[39m Public constructor\n",
       "\u001b[31mFile:\u001b[39m           /opt/conda/lib/python3.12/site-packages/ipyvuetify/extra/file_input.py\n",
       "\u001b[31mType:\u001b[39m           MetaHasTraits\n",
       "\u001b[31mSubclasses:\u001b[39m     "
      ]
     },
     "metadata": {},
     "output_type": "display_data"
    }
   ],
   "source": []
  },
  {
   "cell_type": "code",
   "execution_count": null,
   "id": "bc85a4e2-6794-4c97-90aa-1cb95df2d744",
   "metadata": {},
   "outputs": [],
   "source": []
  }
 ],
 "metadata": {
  "kernelspec": {
   "display_name": "Python 3 (ipykernel)",
   "language": "python",
   "name": "python3"
  },
  "language_info": {
   "codemirror_mode": {
    "name": "ipython",
    "version": 3
   },
   "file_extension": ".py",
   "mimetype": "text/x-python",
   "name": "python",
   "nbconvert_exporter": "python",
   "pygments_lexer": "ipython3",
   "version": "3.12.10"
  }
 },
 "nbformat": 4,
 "nbformat_minor": 5
}
