{
 "cells": [
  {
   "cell_type": "markdown",
   "id": "763380ea-bac4-42c2-8985-a35c34fb6156",
   "metadata": {},
   "source": [
    "Welcome to my plotting program, it is not ready yet. Here I wish to plot plot and colour code a 3D plot. (22/05/2025) -Keely Dodd-Clements "
   ]
  },
  {
   "cell_type": "code",
   "execution_count": null,
   "id": "56d45b91-c8bc-46c4-9abc-ce608b7fd356",
   "metadata": {},
   "outputs": [],
   "source": []
  }
 ],
 "metadata": {
  "kernelspec": {
   "display_name": "Python 3 (ipykernel)",
   "language": "python",
   "name": "python3"
  },
  "language_info": {
   "codemirror_mode": {
    "name": "ipython",
    "version": 3
   },
   "file_extension": ".py",
   "mimetype": "text/x-python",
   "name": "python",
   "nbconvert_exporter": "python",
   "pygments_lexer": "ipython3",
   "version": "3.12.10"
  }
 },
 "nbformat": 4,
 "nbformat_minor": 5
}
