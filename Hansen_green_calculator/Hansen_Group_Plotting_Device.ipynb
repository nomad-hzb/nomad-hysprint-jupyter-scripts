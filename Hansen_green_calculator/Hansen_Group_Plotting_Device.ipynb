{
 "cells": [
  {
   "cell_type": "markdown",
   "id": "763380ea-bac4-42c2-8985-a35c34fb6156",
   "metadata": {},
   "source": [
    "Welcome to my plotting program, it is not ready yet. Here I wish to plot plot and colour code a 3D plot. (22/05/2025) -Keely Dodd-Clements "
   ]
  },
  {
   "cell_type": "code",
   "execution_count": 2,
   "id": "56d45b91-c8bc-46c4-9abc-ce608b7fd356",
   "metadata": {},
   "outputs": [
    {
     "data": {
      "application/vnd.jupyter.widget-view+json": {
       "model_id": "7d15d5514bcc42aaacad26b84de870ca",
       "version_major": 2,
       "version_minor": 0
      },
      "text/plain": [
       "VBox(children=(HTML(value=\"<h2 style='text-align:center;'>Inks Plotted Via Solvents System In Hansen Space, Co…"
      ]
     },
     "metadata": {},
     "output_type": "display_data"
    }
   ],
   "source": [
    "import pandas as pd\n",
    "import plotly.express as px\n",
    "import ipywidgets as widgets\n",
    "from IPython.display import display\n",
    "\n",
    "# Load the data\n",
    "file_path = 'PlottedInks.xlsx'  # Ensure the file is in the same directory\n",
    "inks_df = pd.read_excel(file_path, sheet_name='Inks')\n",
    "\n",
    "# Create title widget\n",
    "title = widgets.HTML(\n",
    "    value=\"<h2 style='text-align:center;'>Inks Plotted Via Solvents System In Hansen Space, Colour's Indicate Solutes</h2>\"\n",
    ")\n",
    "\n",
    "# Create 3D scatter plot\n",
    "fig = px.scatter_3d(\n",
    "    inks_df,\n",
    "    x='D', y='P', z='H',\n",
    "    color='Solutes',\n",
    "    hover_name='Researcher',\n",
    "    title='3D Plot of Inks (D, P, H)',\n",
    "    labels={'D': 'D', 'P': 'P', 'H': 'H'}\n",
    ")\n",
    "\n",
    "# Update layout for better visuals\n",
    "fig.update_layout(\n",
    "    legend_title_text='Solutes',\n",
    "    margin=dict(l=0, r=0, b=0, t=30),\n",
    "    height=700\n",
    ")\n",
    "\n",
    "# Display title and plot using widgets for Voila\n",
    "plot_output = widgets.Output()\n",
    "with plot_output:\n",
    "    fig.show()\n",
    "\n",
    "# Combine title and plot in a vertical layout\n",
    "ui = widgets.VBox([title, plot_output])\n",
    "display(ui)\n"
   ]
  },
  {
   "cell_type": "code",
   "execution_count": null,
   "id": "66e15fe5-e89b-411d-98af-89fc90ab5b1a",
   "metadata": {},
   "outputs": [],
   "source": []
  },
  {
   "cell_type": "code",
   "execution_count": null,
   "id": "7dd32481-5c61-486b-92b3-5b5e24455591",
   "metadata": {},
   "outputs": [],
   "source": []
  }
 ],
 "metadata": {
  "kernelspec": {
   "display_name": "Python 3 (ipykernel)",
   "language": "python",
   "name": "python3"
  },
  "language_info": {
   "codemirror_mode": {
    "name": "ipython",
    "version": 3
   },
   "file_extension": ".py",
   "mimetype": "text/x-python",
   "name": "python",
   "nbconvert_exporter": "python",
   "pygments_lexer": "ipython3",
   "version": "3.12.10"
  }
 },
 "nbformat": 4,
 "nbformat_minor": 5
}
