{
 "cells": [
  {
   "cell_type": "markdown",
   "metadata": {},
   "source": [
    "# Interactive Data Visualizer\n",
    "\n",
    "This notebook creates an interactive data visualization tool using Plotly and ipywidgets. Run this with Voila to create a user-friendly GUI for exploring the dataset."
   ]
  },
  {
   "cell_type": "code",
   "execution_count": 1,
   "metadata": {},
   "outputs": [],
   "source": [
    "# Import required libraries\n",
    "import pandas as pd\n",
    "import numpy as np\n",
    "import plotly.graph_objects as go\n",
    "from plotly.subplots import make_subplots\n",
    "import ipywidgets as widgets\n",
    "from IPython.display import display, clear_output"
   ]
  },
  {
   "cell_type": "code",
   "execution_count": 2,
   "metadata": {},
   "outputs": [
    {
     "name": "stdout",
     "output_type": "stream",
     "text": [
      "Dataset loaded with 257 rows and 19 columns\n",
      "Numerical columns available: ['No.', 'D', 'P', 'H', 'bp', 'mw', 'viscosity(mPa.s@25)', 'vis_temp', 'heat_of_vap', 'hov_temp', 'DN']\n"
     ]
    }
   ],
   "source": [
    "# Load the data\n",
    "df = pd.read_csv('db.csv')\n",
    "\n",
    "# Identify numerical columns\n",
    "numerical_columns = df.select_dtypes(include=['float64', 'int64']).columns.tolist()\n",
    "\n",
    "# Add a 'None' option for the color parameter\n",
    "color_options = ['None'] + numerical_columns\n",
    "\n",
    "print(f\"Dataset loaded with {len(df)} rows and {len(df.columns)} columns\")\n",
    "print(f\"Numerical columns available: {numerical_columns}\")"
   ]
  },
  {
   "cell_type": "code",
   "execution_count": 3,
   "metadata": {},
   "outputs": [],
   "source": [
    "# Create widgets for the interactive visualization\n",
    "x_dropdown = widgets.Dropdown(\n",
    "    options=numerical_columns,\n",
    "    description='X-axis:',\n",
    "    value=numerical_columns[0] if numerical_columns else None,\n",
    "    style={'description_width': 'initial'}\n",
    ")\n",
    "\n",
    "y_dropdown = widgets.Dropdown(\n",
    "    options=numerical_columns,\n",
    "    description='Y-axis:',\n",
    "    value=numerical_columns[1] if len(numerical_columns) > 1 else numerical_columns[0] if numerical_columns else None,\n",
    "    style={'description_width': 'initial'}\n",
    ")\n",
    "\n",
    "color_dropdown = widgets.Dropdown(\n",
    "    options=color_options,\n",
    "    description='Color by:',\n",
    "    value='None',\n",
    "    style={'description_width': 'initial'}\n",
    ")\n",
    "\n",
    "output = widgets.Output()"
   ]
  },
  {
   "cell_type": "code",
   "execution_count": 4,
   "metadata": {},
   "outputs": [],
   "source": [
    "# Function to update the plot\n",
    "def update_plot(*args):\n",
    "    with output:\n",
    "        clear_output(wait=True)\n",
    "        \n",
    "        # Get selected values\n",
    "        x_col = x_dropdown.value\n",
    "        y_col = y_dropdown.value\n",
    "        color_col = color_dropdown.value if color_dropdown.value != 'None' else None\n",
    "        \n",
    "        # Filter out rows with missing values in the selected columns\n",
    "        columns_to_check = [x_col, y_col]\n",
    "        if color_col:\n",
    "            columns_to_check.append(color_col)\n",
    "            \n",
    "        filtered_df = df.dropna(subset=columns_to_check)\n",
    "        \n",
    "        # Create the figure\n",
    "        fig = go.Figure()\n",
    "        \n",
    "        if color_col:\n",
    "            # Create a scatter plot with color mapping\n",
    "            scatter = go.Scatter(\n",
    "                x=filtered_df[x_col],\n",
    "                y=filtered_df[y_col],\n",
    "                mode='markers',\n",
    "                marker=dict(\n",
    "                    size=10,\n",
    "                    color=filtered_df[color_col],\n",
    "                    colorscale='RdYlBu',  # Red-Yellow-Blue color scale\n",
    "                    showscale=True,\n",
    "                    colorbar=dict(title=color_col)\n",
    "                ),\n",
    "                text=filtered_df['Name'],  # Show compound name on hover\n",
    "                hovertemplate='<b>%{text}</b><br>' +\n",
    "                              f'{x_col}: %{{x}}<br>' +\n",
    "                              f'{y_col}: %{{y}}<br>' +\n",
    "                              f'{color_col}: %{{marker.color}}<extra></extra>'\n",
    "            )\n",
    "        else:\n",
    "            # Create a scatter plot without color mapping\n",
    "            scatter = go.Scatter(\n",
    "                x=filtered_df[x_col],\n",
    "                y=filtered_df[y_col],\n",
    "                mode='markers',\n",
    "                marker=dict(size=10),\n",
    "                text=filtered_df['Name'],  # Show compound name on hover\n",
    "                hovertemplate='<b>%{text}</b><br>' +\n",
    "                              f'{x_col}: %{{x}}<br>' +\n",
    "                              f'{y_col}: %{{y}}<extra></extra>'\n",
    "            )\n",
    "        \n",
    "        fig.add_trace(scatter)\n",
    "        \n",
    "        # Update layout\n",
    "        fig.update_layout(\n",
    "            title=f'Scatter Plot of {y_col} vs {x_col}' + (f' colored by {color_col}' if color_col else ''),\n",
    "            xaxis_title=x_col,\n",
    "            yaxis_title=y_col,\n",
    "            height=600,\n",
    "            width=800,\n",
    "            template='plotly_white',\n",
    "            hoverlabel=dict(bgcolor=\"white\", font_size=12),\n",
    "            margin=dict(l=50, r=50, t=50, b=50)\n",
    "        )\n",
    "        \n",
    "        # Show the plot\n",
    "        display(fig)\n",
    "        \n",
    "        # Show some statistics\n",
    "        print(f\"Displaying {len(filtered_df)} data points out of {len(df)} total records\")\n",
    "        if len(filtered_df) < len(df):\n",
    "            print(f\"{len(df) - len(filtered_df)} points were excluded due to missing values\")"
   ]
  },
  {
   "cell_type": "code",
   "execution_count": 5,
   "metadata": {},
   "outputs": [
    {
     "data": {
      "application/vnd.jupyter.widget-view+json": {
       "model_id": "4aa8d97f7b114020aa6c2036fcf19643",
       "version_major": 2,
       "version_minor": 0
      },
      "text/plain": [
       "VBox(children=(HBox(children=(Dropdown(description='X-axis:', options=('No.', 'D', 'P', 'H', 'bp', 'mw', 'visc…"
      ]
     },
     "metadata": {},
     "output_type": "display_data"
    }
   ],
   "source": [
    "# Connect the widgets to the update function\n",
    "x_dropdown.observe(update_plot, names='value')\n",
    "y_dropdown.observe(update_plot, names='value')\n",
    "color_dropdown.observe(update_plot, names='value')\n",
    "\n",
    "# Create a UI layout\n",
    "controls = widgets.HBox([x_dropdown, y_dropdown, color_dropdown])\n",
    "ui = widgets.VBox([controls, output])\n",
    "\n",
    "# Display the UI\n",
    "display(ui)\n",
    "\n",
    "# Initial plot update\n",
    "update_plot()"
   ]
  },
  {
   "cell_type": "markdown",
   "metadata": {},
   "source": [
    "## How to use this visualization tool\n",
    "\n",
    "1. Select the variable for the X-axis from the first dropdown\n",
    "2. Select the variable for the Y-axis from the second dropdown\n",
    "3. Optionally, select a third variable to use for coloring the data points\n",
    "   - If \"None\" is selected, all points will have the same color\n",
    "   - When a variable is selected, points will be colored using the RdYlBu (Red-Yellow-Blue) color scheme\n",
    "\n",
    "Note: Data points with missing values in any of the selected variables will not be displayed in the plot."
   ]
  },
  {
   "cell_type": "code",
   "execution_count": null,
   "metadata": {},
   "outputs": [],
   "source": []
  }
 ],
 "metadata": {
  "kernelspec": {
   "display_name": "Python 3 (ipykernel)",
   "language": "python",
   "name": "python3"
  },
  "language_info": {
   "codemirror_mode": {
    "name": "ipython",
    "version": 3
   },
   "file_extension": ".py",
   "mimetype": "text/x-python",
   "name": "python",
   "nbconvert_exporter": "python",
   "pygments_lexer": "ipython3",
   "version": "3.12.10"
  }
 },
 "nbformat": 4,
 "nbformat_minor": 4
}
