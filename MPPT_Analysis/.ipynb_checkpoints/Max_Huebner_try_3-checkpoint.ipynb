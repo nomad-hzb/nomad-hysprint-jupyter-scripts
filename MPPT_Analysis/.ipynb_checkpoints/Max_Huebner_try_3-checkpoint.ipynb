{
 "cells": [
  {
   "cell_type": "code",
   "execution_count": 9,
   "id": "fbbec989-5d8a-471a-b5fb-c1d9873f8d85",
   "metadata": {},
   "outputs": [
    {
     "name": "stdout",
     "output_type": "stream",
     "text": [
      "🧪 Detected 12 files per sample.\n",
      "➡️ Please enter a comma-separated list of core level names (in same order as files in folders).\n"
     ]
    },
    {
     "data": {
      "application/vnd.jupyter.widget-view+json": {
       "model_id": "d1f2fd2cb64342c4a4cf9c1ccd63d2cf",
       "version_major": 2,
       "version_minor": 0
      },
      "text/plain": [
       "VBox(children=(Text(value='', description='Core levels:', layout=Layout(width='90%')), Button(button_style='su…"
      ]
     },
     "metadata": {},
     "output_type": "display_data"
    }
   ],
   "source": [
    "import numpy as np\n",
    "import matplotlib.pyplot as plt\n",
    "import glob\n",
    "import os\n",
    "from ipywidgets import Text, Button, VBox, Output, FloatRangeSlider\n",
    "from IPython.display import display\n",
    "\n",
    "# === USER INPUT SECTION ===\n",
    "sample_folders = sorted(glob.glob(\"./samples/sample*/\"))  # Adjust if needed\n",
    "output_base_folder = \"./output_aligned/\"\n",
    "align_to = \"first\"  # or \"mean\"\n",
    "\n",
    "# Collect file names from each sample\n",
    "sample_files = [sorted(glob.glob(os.path.join(folder, \"*.xy\"))) for folder in sample_folders]\n",
    "num_files_per_sample = len(sample_files[0])\n",
    "assert all(len(files) == num_files_per_sample for files in sample_files), \"Mismatch in file count!\"\n",
    "\n",
    "# === Step 1: Input core level names ===\n",
    "print(f\"🧪 Detected {num_files_per_sample} files per sample.\")\n",
    "print(\"➡️ Please enter a comma-separated list of core level names (in same order as files in folders).\")\n",
    "\n",
    "text_input = Text(description=\"Core levels:\", layout={'width': '90%'})\n",
    "confirm_button = Button(description=\"Confirm\", button_style='success')\n",
    "output_area = Output()\n",
    "\n",
    "def on_confirm_clicked(b):\n",
    "    with output_area:\n",
    "        output_area.clear_output()\n",
    "        core_level_names = [name.strip() for name in text_input.value.split(\",\")]\n",
    "        if len(core_level_names) != num_files_per_sample:\n",
    "            print(f\"❌ Expected {num_files_per_sample} names, got {len(core_level_names)}.\")\n",
    "            return\n",
    "        print(\"✅ Core levels set:\", core_level_names)\n",
    "        run_interface(core_level_names)\n",
    "\n",
    "confirm_button.on_click(on_confirm_clicked)\n",
    "display(VBox([text_input, confirm_button, output_area]))\n",
    "\n",
    "# === MAIN PROCESSING ===\n",
    "def process_core_level(core_idx, core_name):\n",
    "    spectra_raw = []\n",
    "    for sample in sample_files:\n",
    "        path = sample[core_idx]\n",
    "        data = np.loadtxt(path)\n",
    "        x, y = data[:, 0], data[:, 1]\n",
    "        spectra_raw.append((x, y))\n",
    "\n",
    "    # Plot raw spectra\n",
    "    print(f\"\\n🔎 Core Level: {core_name}\")\n",
    "    plt.figure(figsize=(8, 5))\n",
    "    for x, y in spectra_raw:\n",
    "        plt.plot(x, y)\n",
    "    plt.title(f\"Core Level: {core_name} — Raw Spectra\")\n",
    "    plt.xlabel(\"x\")\n",
    "    plt.ylabel(\"y\")\n",
    "    plt.grid(True)\n",
    "    plt.show()\n",
    "\n",
    "    # Setup slider for peak selection\n",
    "    x_all = np.concatenate([x for x, _ in spectra_raw])\n",
    "    x_min_slider = np.min(x_all)\n",
    "    x_max_slider = np.max(x_all)\n",
    "\n",
    "    interval_slider = FloatRangeSlider(\n",
    "        value=[x_min_slider + 0.1*(x_max_slider - x_min_slider), x_max_slider - 0.1*(x_max_slider - x_min_slider)],\n",
    "        min=x_min_slider,\n",
    "        max=x_max_slider,\n",
    "        step=0.1,\n",
    "        description='Peak range:',\n",
    "        continuous_update=False,\n",
    "        layout={\"width\": \"80%\"}\n",
    "    )\n",
    "    out = Output()\n",
    "    run_button = Button(description=\"Align and Normalize\", button_style='success')\n",
    "\n",
    "    def on_click_run(b):\n",
    "        with out:\n",
    "            out.clear_output()\n",
    "            x_min, x_max = interval_slider.value\n",
    "            peak_positions = []\n",
    "            spectra_norm = []\n",
    "\n",
    "            for x, y in spectra_raw:\n",
    "                y_norm = y / np.max(y)\n",
    "                spectra_norm.append((x, y_norm))\n",
    "\n",
    "                mask = (x >= x_min) & (x <= x_max)\n",
    "                if not np.any(mask):\n",
    "                    raise ValueError(f\"No data in interval [{x_min}, {x_max}]\")\n",
    "                peak_idx = np.argmax(y_norm[mask])\n",
    "                peak_x = x[mask][peak_idx]\n",
    "                peak_positions.append(peak_x)\n",
    "\n",
    "            ref_peak = peak_positions[0] if align_to == \"first\" else np.mean(peak_positions)\n",
    "\n",
    "            spectra_aligned = []\n",
    "            for (x, y), peak_x in zip(spectra_norm, peak_positions):\n",
    "                x_shifted = x + (ref_peak - peak_x)\n",
    "                spectra_aligned.append((x_shifted, y))\n",
    "\n",
    "            # Plot before and after\n",
    "            fig, axs = plt.subplots(1, 2, figsize=(14, 5))\n",
    "            axs[0].set_title(\"Original (Normalized)\")\n",
    "            for x, y in spectra_norm:\n",
    "                axs[0].plot(x, y)\n",
    "            axs[0].set_xlabel(\"x\")\n",
    "            axs[0].set_ylabel(\"Norm. y\")\n",
    "            axs[0].grid(True)\n",
    "\n",
    "            axs[1].set_title(\"Aligned (Normalized)\")\n",
    "            for x, y in spectra_aligned:\n",
    "                axs[1].plot(x, y)\n",
    "            axs[1].set_xlabel(\"x (shifted)\")\n",
    "            axs[1].set_ylabel(\"Norm. y\")\n",
    "            axs[1].grid(True)\n",
    "\n",
    "            plt.tight_layout()\n",
    "            plt.show()\n",
    "\n",
    "            # Save files\n",
    "            for aligned, sample_folder in zip(spectra_aligned, sample_folders):\n",
    "                output_folder = os.path.join(output_base_folder, os.path.basename(sample_folder))\n",
    "                os.makedirs(output_folder, exist_ok=True)\n",
    "                output_path = os.path.join(output_folder, f\"{core_name}.xy\")\n",
    "                np.savetxt(output_path, np.column_stack(aligned), fmt=\"%.6f\")\n",
    "            print(f\"💾 Saved aligned files for core level '{core_name}'.\")\n",
    "\n",
    "    run_button.on_click(on_click_run)\n",
    "    display(VBox([interval_slider, run_button, out]))\n",
    "\n",
    "# === LOOP OVER ALL CORE LEVELS ===\n",
    "def run_interface(core_level_names):\n",
    "    for idx, core_name in enumerate(core_level_names):\n",
    "        print(f\"\\n==============================\")\n",
    "        print(f\" Core Level: {core_name}\")\n",
    "        print(f\"==============================\")\n",
    "        process_core_level(idx, core_name)\n",
    "\n"
   ]
  },
  {
   "cell_type": "code",
   "execution_count": null,
   "id": "f359f231-d66e-4555-be4c-e7da5232d1c0",
   "metadata": {},
   "outputs": [],
   "source": []
  },
  {
   "cell_type": "markdown",
   "id": "27a7ac97-68a5-41da-9cdf-df588c314a2a",
   "metadata": {},
   "source": [
    "Debug Code"
   ]
  },
  {
   "cell_type": "code",
   "execution_count": 5,
   "id": "33a0b7cd-96bd-4506-bbb0-9e96c3a3763a",
   "metadata": {},
   "outputs": [
    {
     "name": "stdout",
     "output_type": "stream",
     "text": [
      "./samples/sample1/: 12 .xy files\n",
      "./samples/sample2/: 12 .xy files\n",
      "./samples/sample3/: 12 .xy files\n",
      "./samples/sample4/: 12 .xy files\n",
      "./samples/sample5/: 12 .xy files\n",
      "./samples/sample6/: 12 .xy files\n"
     ]
    }
   ],
   "source": [
    "for folder in sample_folders:\n",
    "    files = glob.glob(os.path.join(folder, \"*.xy\"))\n",
    "    print(f\"{folder}: {len(files)} .xy files\")"
   ]
  }
 ],
 "metadata": {
  "kernelspec": {
   "display_name": "Python 3 (ipykernel)",
   "language": "python",
   "name": "python3"
  },
  "language_info": {
   "codemirror_mode": {
    "name": "ipython",
    "version": 3
   },
   "file_extension": ".py",
   "mimetype": "text/x-python",
   "name": "python",
   "nbconvert_exporter": "python",
   "pygments_lexer": "ipython3",
   "version": "3.12.10"
  }
 },
 "nbformat": 4,
 "nbformat_minor": 5
}
