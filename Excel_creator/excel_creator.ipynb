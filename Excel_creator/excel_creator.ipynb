{
 "cells": [
  {
   "cell_type": "code",
   "execution_count": 1,
   "id": "56e60a1c-bd83-45a6-b7aa-7d961d29b147",
   "metadata": {
    "scrolled": true
   },
   "outputs": [
    {
     "name": "stdout",
     "output_type": "stream",
     "text": [
      "✅ Loaded 10 templates\n"
     ]
    },
    {
     "data": {
      "application/vnd.jupyter.widget-view+json": {
       "model_id": "d2e4ff426b7d45138be1d30170cff093",
       "version_major": 2,
       "version_minor": 0
      },
      "text/plain": [
       "VBox(children=(HTML(value='\\n            <div style=\"padding: 15px; background: linear-gradient(135deg, #667ee…"
      ]
     },
     "metadata": {},
     "output_type": "display_data"
    }
   ],
   "source": [
    "import sys\n",
    "from pathlib import Path\n",
    "sys.path.append(str(Path().resolve()))\n",
    "sys.path.append(str(Path().parent.resolve()))\n",
    "sys.path.append(str(Path(\"Excel_creator\").resolve()))\n",
    "\n",
    "# Import the experiment builder\n",
    "from voila_experiment_app import create_experiment_app\n",
    "\n",
    "app = create_experiment_app()"
   ]
  },
  {
   "cell_type": "code",
   "execution_count": null,
   "id": "427e6b66-76fb-4523-9901-5de41e7acca6",
   "metadata": {},
   "outputs": [],
   "source": []
  }
 ],
 "metadata": {
  "kernelspec": {
   "display_name": "Python 3 (ipykernel)",
   "language": "python",
   "name": "python3"
  },
  "language_info": {
   "codemirror_mode": {
    "name": "ipython",
    "version": 3
   },
   "file_extension": ".py",
   "mimetype": "text/x-python",
   "name": "python",
   "nbconvert_exporter": "python",
   "pygments_lexer": "ipython3",
   "version": "3.12.10"
  }
 },
 "nbformat": 4,
 "nbformat_minor": 5
}
