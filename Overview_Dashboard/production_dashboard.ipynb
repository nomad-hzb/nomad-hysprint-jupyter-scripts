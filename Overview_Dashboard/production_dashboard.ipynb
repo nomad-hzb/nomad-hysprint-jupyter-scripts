{
 "cells": [
  {
   "cell_type": "code",
   "execution_count": 1,
   "id": "0b393cb4-a0a3-4ec9-b266-2a9f500aff8e",
   "metadata": {
    "tags": []
   },
   "outputs": [],
   "source": [
    "%matplotlib ipympl\n",
    "%load_ext autoreload\n",
    "%autoreload 2\n",
    "import sys\n",
    "import os\n",
    "import ipywidgets as widgets\n",
    "from IPython.display import display, Markdown, HTML, Latex\n",
    "\n",
    "sys.path.append(os.path.dirname(os.getcwd()))\n",
    "from api_calls import get_ids_in_batch, get_processing_steps, get_efficiencies\n",
    "from batch_selection import create_batch_selection\n",
    "import process_handling\n",
    "import access_token\n",
    "\n",
    "url_base =\"https://nomad-hzb-se.de\"\n",
    "url = f\"{url_base}/nomad-oasis/api/v1\"\n",
    "token = access_token.get_token(url)"
   ]
  },
  {
   "cell_type": "code",
   "execution_count": 2,
   "id": "885ea2c8-31c9-46e4-bd87-a7e858ae65fa",
   "metadata": {
    "scrolled": true,
    "tags": []
   },
   "outputs": [
    {
     "data": {
      "application/vnd.jupyter.widget-view+json": {
       "model_id": "92196e8382fb43e7acd8a1852cf490f3",
       "version_major": 2,
       "version_minor": 0
      },
      "text/plain": [
       "VBox(children=(Text(value='', description='Search Batch'), SelectMultiple(description='Batches', layout=Layout…"
      ]
     },
     "metadata": {},
     "output_type": "display_data"
    },
    {
     "data": {
      "application/vnd.jupyter.widget-view+json": {
       "model_id": "d88171a46576479aa2d77dc831126a50",
       "version_major": 2,
       "version_minor": 0
      },
      "text/plain": [
       "HBox()"
      ]
     },
     "metadata": {},
     "output_type": "display_data"
    },
    {
     "data": {
      "application/vnd.jupyter.widget-view+json": {
       "model_id": "17bd6a6d38ab4cd580e1e545f469681c",
       "version_major": 2,
       "version_minor": 0
      },
      "text/plain": [
       "VBox(children=(Checkbox(value=False, description='hide nonvaried values'), Checkbox(value=False, description='…"
      ]
     },
     "metadata": {},
     "output_type": "display_data"
    },
    {
     "data": {
      "application/vnd.jupyter.widget-view+json": {
       "model_id": "b2af038d9e0447bda530b2bd09f3b1f0",
       "version_major": 2,
       "version_minor": 0
      },
      "text/plain": [
       "Output()"
      ]
     },
     "metadata": {},
     "output_type": "display_data"
    },
    {
     "data": {
      "application/vnd.jupyter.widget-view+json": {
       "model_id": "72e8ef174aa442f4bcdf93ce7d1487c6",
       "version_major": 2,
       "version_minor": 0
      },
      "text/plain": [
       "Output()"
      ]
     },
     "metadata": {},
     "output_type": "display_data"
    }
   ],
   "source": [
    "#initial widgets\n",
    "batch_overview_output = widgets.HBox()\n",
    "exclude_const = widgets.Checkbox(description = \"hide nonvaried values\")\n",
    "exclude_string = widgets.Checkbox(description = \"hide text values\")\n",
    "abbreviate_keys = widgets.Checkbox(description = \"abbreviate value names\")\n",
    "detail_output = widgets.Output()\n",
    "parameter_output = widgets.Output()\n",
    "\n",
    "batch_data = [] \n",
    "\n",
    "def load_data_function(batch_ids_selector):\n",
    "    global batch_data\n",
    "    def create_batch_overview(batch_id):\n",
    "        sample_ids = get_ids_in_batch(url, token, [batch_id])\n",
    "        return process_handling.batch_process(get_processing_steps(url, token, sample_ids),\n",
    "                                              get_efficiencies(url, token, sample_ids),\n",
    "                                              batch_id,\n",
    "                                              detail_output,\n",
    "                                              parameter_output,\n",
    "                                              exclude_const,\n",
    "                                              exclude_string,\n",
    "                                              abbreviate_keys)\n",
    "    batch_overview_list = list(map(create_batch_overview, batch_ids_selector.value))\n",
    "\n",
    "    batch_data = batch_overview_list\n",
    "    batch_overview_output.children = batch_overview_list\n",
    "    return\n",
    "\n",
    "display(create_batch_selection(url, token, load_data_function))\n",
    "display(batch_overview_output)\n",
    "display(widgets.VBox([exclude_const,exclude_string,abbreviate_keys]))\n",
    "display(detail_output)\n",
    "display(parameter_output)"
   ]
  },
  {
   "cell_type": "code",
   "execution_count": 3,
   "id": "4b777b6e-59ed-4c34-8128-868197c81716",
   "metadata": {},
   "outputs": [],
   "source": [
    "# the global batch_data contains an object for every selected batch.\n",
    "# The efficiencies attribute is a dict key value pairs sample_id:efficiency\n",
    "# the get_selected_manufacturing_parameters retreives a dict containing dicts which store all the parameters for each sample\n",
    "# example applications:\n",
    "#pd.Series(batch_data[0].efficiencies)\n",
    "#print(batch_data[0].get_selected_manufacturing_parameters(only_samples_with_efficiencies=False, only_samples_with_all_values=True))"
   ]
  },
  {
   "cell_type": "code",
   "execution_count": null,
   "id": "82e5c5e5-777c-4d84-b25d-04c2aa90c7d5",
   "metadata": {},
   "outputs": [],
   "source": []
  }
 ],
 "metadata": {
  "kernelspec": {
   "display_name": "Python 3 (ipykernel)",
   "language": "python",
   "name": "python3"
  },
  "language_info": {
   "codemirror_mode": {
    "name": "ipython",
    "version": 3
   },
   "file_extension": ".py",
   "mimetype": "text/x-python",
   "name": "python",
   "nbconvert_exporter": "python",
   "pygments_lexer": "ipython3",
   "version": "3.12.10"
  }
 },
 "nbformat": 4,
 "nbformat_minor": 5
}
